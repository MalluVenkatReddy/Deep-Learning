{
 "cells": [
  {
   "cell_type": "code",
   "execution_count": null,
   "id": "d69d38c9",
   "metadata": {},
   "outputs": [],
   "source": [
    "Part 1: Understanding Optimizer\n",
    "1. What is the role of optimization algorithms in artificial neural networks? Why are they necessary\n",
    "2. Explain the concept of gradient descent and its variants. Discuss their differences and tradeoffs in terms \n",
    "of convergence speed and memory requirements\n",
    "3. Describe the challenges associated with traditional gradient descent optimization methods (e.g., slow \n",
    "convergence, local minima). How do modern optimizers address these challenges\n",
    "4. Discuss the concepts of momentum and learning rate in the context of optimization algorithms. How do \n",
    "they impact convergence and model performance?"
   ]
  },
  {
   "cell_type": "code",
   "execution_count": null,
   "id": "48e0a6ac",
   "metadata": {},
   "outputs": [],
   "source": [
    "1. The process of minimizing (or maximizing) any mathematical expression is called optimization. \n",
    "Optimizers are algorithms or methods used to change the attributes of the neural network such as weights and learning rate to reduce the losses. \n",
    "Optimizers are used to solve optimization problems by minimizing the function"
   ]
  },
  {
   "cell_type": "code",
   "execution_count": null,
   "id": "9d2ec1d7",
   "metadata": {},
   "outputs": [],
   "source": [
    "2. Gradient Descent is the most common optimization algorithm in machine learning and deep learning. \n",
    "It is a first-order optimization algorithm. This means it only takes into account the first derivative when performing the updates on the parameters. \n",
    "On each iteration, we update the parameters in the opposite direction of the gradient of the objective function J(w) w.r.t the parameters where the gradient gives the direction of the steepest ascent. \n",
    "The size of the step we take on each iteration to reach the local minimum is determined by the learning rate α. \n",
    "Therefore, we follow the direction of the slope downhill until we reach a local minimum."
   ]
  },
  {
   "cell_type": "code",
   "execution_count": null,
   "id": "74feb9c7",
   "metadata": {},
   "outputs": [],
   "source": [
    "There are three types of gradient descent learning algorithms: batch gradient descent, stochastic gradient descent and mini-batch gradient descent.\n",
    "\n",
    "a. Batch gradient descent\n",
    " \n",
    "Batch gradient descent sums the error for each point in a training set, updating the model only after all training examples have been evaluated. This process referred to as a training epoch.\n",
    "\n",
    "While this batching provides computation efficiency, it can still have a long processing time for large training datasets as it still needs to store all of the data into memory. Batch gradient descent also usually produces a stable error gradient and convergence, but sometimes that convergence point isn’t the most ideal, finding the local minimum versus the global one.\n",
    "\n",
    "b. Stochastic gradient descent\n",
    " \n",
    "Stochastic gradient descent (SGD) runs a training epoch for each example within the dataset and it updates each training example's parameters one at a time. Since you only need to hold one training example, they are easier to store in memory. While these frequent updates can offer more detail and speed, it can result in losses in computational efficiency when compared to batch gradient descent. Its frequent updates can result in noisy gradients, but this can also be helpful in escaping the local minimum and finding the global one.\n",
    "\n",
    "c. Mini-batch gradient descent\n",
    " \n",
    "Mini-batch gradient descent combines concepts from both batch gradient descent and stochastic gradient descent. It splits the training dataset into small batch sizes and performs updates on each of those batches. This approach strikes a balance between the computational efficiency of batch gradient descent and the speed of stochastic gradient descent.\n"
   ]
  },
  {
   "cell_type": "code",
   "execution_count": null,
   "id": "39b0bd50",
   "metadata": {},
   "outputs": [],
   "source": [
    "3. The problem with gradient descent is that the weight update at a moment (t) is governed by the learning rate and gradient at that moment only. \n",
    "It doesn't take into account the past steps taken while traversing the cost space.\n",
    "\n",
    "Local minima of the problem solved by adding past weight update to the current weight update by using momentum.\n",
    "\n",
    "Momentum, simply put, adds a fraction of the past weight update to the current weight update. \n",
    "This helps prevent the model from getting stuck in local minima, as even if the current gradient is 0, the past one most likely was not, so it will as easily get stuck."
   ]
  },
  {
   "cell_type": "code",
   "execution_count": null,
   "id": "6bd32d6e",
   "metadata": {},
   "outputs": [],
   "source": [
    "4. Momentum is a widely-used strategy for accelerating the convergence of gradient-based optimization techniques. \n",
    "Momentum was designed to speed up learning in directions of low curvature, without becoming unstable in directions of high curvature"
   ]
  },
  {
   "cell_type": "code",
   "execution_count": null,
   "id": "6c216b80",
   "metadata": {},
   "outputs": [],
   "source": [
    "The learning rate is a parameter in such algorithms. It is a hyper-parameter that governs the amount of alteration of the weights in the network concerning the loss gradient. The lower the value, the slower it moves downhill"
   ]
  },
  {
   "cell_type": "code",
   "execution_count": null,
   "id": "064266b7",
   "metadata": {},
   "outputs": [],
   "source": [
    "Part 2: Optimizer Technique\n",
    "5. Explain the concept of Stochastic Gradient Descent (SGD) and its advantages compared to traditional \n",
    "gradient descent. Discuss its limitations and scenarios where it is most suitable\n",
    "6. Describe the concept of Adam optimizer and how it combines momentum and adaptive learning rates. \n",
    "Discuss its benefits and potential drawbacks\n",
    "7. Explain the concept of RMSprop optimizer and how it addresses the challenges of adaptive learning \n",
    "rates. Compare it with Adam and discuss their relative strengths and weaknesses."
   ]
  },
  {
   "cell_type": "code",
   "execution_count": null,
   "id": "8cffefbf",
   "metadata": {},
   "outputs": [],
   "source": [
    "5. Stochastic Gradient Descent (SGD)\n",
    "\n",
    "The only difference comes while iterating. In Gradient Descent, we consider all the points in calculating loss and derivative, while in Stochastic gradient descent, we use single point in loss function and its derivative randomly.\n",
    "\n",
    "Advantages of Stochastic Gradient Descent:\n",
    "It is easier to fit into memory due to a single training sample being processed by the network.\n",
    "It is computationally fast as only one sample is processed at a time.\n",
    "For larger datasets it can converge faster as it causes updates to the parameters more frequently.\n",
    "\n",
    "The primary disadvantage of stochastic methods is that their accuracy is not very good, though it's usually close enough. \n",
    "For this reason they are typically not used when another method is feasible."
   ]
  },
  {
   "cell_type": "code",
   "execution_count": null,
   "id": "d691d3b5",
   "metadata": {},
   "outputs": [],
   "source": [
    "6.Adam optimizer:\n",
    "    \n",
    "Adam optimizer is Adaptive momentum, combining momentum and RMS\n",
    "\n",
    "Adam optimization is a stochastic gradient descent method that is based on adaptive estimation of first-order and second-order moments.\n",
    "\n",
    "Adam optimizer is a powerful tool for improving the accuracy and speed of deep learning models. Its adaptive learning rate and momentum-based approach can help the neural network learn faster and converge more quickly towards the optimal set of parameters that minimize the cost or loss function."
   ]
  },
  {
   "cell_type": "code",
   "execution_count": null,
   "id": "4aadc7fb",
   "metadata": {},
   "outputs": [],
   "source": [
    "7.RMSprop optimizer:\n",
    "    \n",
    "RMSProp, root mean squared propagation is the optimization machine learning algorithm to train the Artificial Neural Network (ANN) by different adaptive learning rate and derived from the concepts of gradients descent and RProp.\n",
    "\n",
    "Adam is slower to change its direction, and then much slower to get back to the minimum. However, rmsprop with momentum reaches much further before it changes direction   "
   ]
  },
  {
   "cell_type": "code",
   "execution_count": null,
   "id": "17d88516",
   "metadata": {},
   "outputs": [],
   "source": [
    "Part 3: Applying Optimizer\n",
    "8 Implement SGD, Adam, and RMSprop optimizers in a deep learning model using a framework of your \n",
    "choice. Train the model on a suitable dataset and compare their impact on model convergence and \n",
    "performance\n",
    "9 Discuss the considerations and tradeoffs when choosing the appropriate optimizer for a given neural \n",
    "network architecture and task. Consider factors such as convergence speed, stability, and \n",
    "generalization performance."
   ]
  },
  {
   "cell_type": "markdown",
   "id": "5734dd4b",
   "metadata": {},
   "source": [
    "## SGD"
   ]
  },
  {
   "cell_type": "code",
   "execution_count": 3,
   "id": "14bc9b1c",
   "metadata": {},
   "outputs": [
    {
     "name": "stdout",
     "output_type": "stream",
     "text": [
      "Epoch 1/10\n",
      "3438/3438 [==============================] - 10s 3ms/step - loss: 0.4659 - accuracy: 0.8745 - val_loss: 0.2493 - val_accuracy: 0.9308\n",
      "Epoch 2/10\n",
      "3438/3438 [==============================] - 8s 2ms/step - loss: 0.2297 - accuracy: 0.9341 - val_loss: 0.1822 - val_accuracy: 0.9520\n",
      "Epoch 3/10\n",
      "3438/3438 [==============================] - 8s 2ms/step - loss: 0.1739 - accuracy: 0.9500 - val_loss: 0.1541 - val_accuracy: 0.9568\n",
      "Epoch 4/10\n",
      "3438/3438 [==============================] - 8s 2ms/step - loss: 0.1400 - accuracy: 0.9603 - val_loss: 0.1257 - val_accuracy: 0.9662\n",
      "Epoch 5/10\n",
      "3438/3438 [==============================] - 8s 2ms/step - loss: 0.1160 - accuracy: 0.9673 - val_loss: 0.1120 - val_accuracy: 0.9702\n",
      "Epoch 6/10\n",
      "3438/3438 [==============================] - 8s 2ms/step - loss: 0.0984 - accuracy: 0.9722 - val_loss: 0.1000 - val_accuracy: 0.9726\n",
      "Epoch 7/10\n",
      "3438/3438 [==============================] - 7s 2ms/step - loss: 0.0848 - accuracy: 0.9766 - val_loss: 0.0906 - val_accuracy: 0.9740\n",
      "Epoch 8/10\n",
      "3438/3438 [==============================] - 7s 2ms/step - loss: 0.0739 - accuracy: 0.9794 - val_loss: 0.0885 - val_accuracy: 0.9764\n",
      "Epoch 9/10\n",
      "3438/3438 [==============================] - 7s 2ms/step - loss: 0.0653 - accuracy: 0.9817 - val_loss: 0.0784 - val_accuracy: 0.9790\n",
      "Epoch 10/10\n",
      "3438/3438 [==============================] - 8s 2ms/step - loss: 0.0580 - accuracy: 0.9842 - val_loss: 0.0784 - val_accuracy: 0.9780\n"
     ]
    },
    {
     "data": {
      "text/html": [
       "<div>\n",
       "<style scoped>\n",
       "    .dataframe tbody tr th:only-of-type {\n",
       "        vertical-align: middle;\n",
       "    }\n",
       "\n",
       "    .dataframe tbody tr th {\n",
       "        vertical-align: top;\n",
       "    }\n",
       "\n",
       "    .dataframe thead th {\n",
       "        text-align: right;\n",
       "    }\n",
       "</style>\n",
       "<table border=\"1\" class=\"dataframe\">\n",
       "  <thead>\n",
       "    <tr style=\"text-align: right;\">\n",
       "      <th></th>\n",
       "      <th>loss</th>\n",
       "      <th>accuracy</th>\n",
       "      <th>val_loss</th>\n",
       "      <th>val_accuracy</th>\n",
       "    </tr>\n",
       "  </thead>\n",
       "  <tbody>\n",
       "    <tr>\n",
       "      <th>0</th>\n",
       "      <td>0.465939</td>\n",
       "      <td>0.874473</td>\n",
       "      <td>0.249258</td>\n",
       "      <td>0.9308</td>\n",
       "    </tr>\n",
       "    <tr>\n",
       "      <th>1</th>\n",
       "      <td>0.229686</td>\n",
       "      <td>0.934127</td>\n",
       "      <td>0.182161</td>\n",
       "      <td>0.9520</td>\n",
       "    </tr>\n",
       "    <tr>\n",
       "      <th>2</th>\n",
       "      <td>0.173858</td>\n",
       "      <td>0.950018</td>\n",
       "      <td>0.154097</td>\n",
       "      <td>0.9568</td>\n",
       "    </tr>\n",
       "    <tr>\n",
       "      <th>3</th>\n",
       "      <td>0.139954</td>\n",
       "      <td>0.960255</td>\n",
       "      <td>0.125660</td>\n",
       "      <td>0.9662</td>\n",
       "    </tr>\n",
       "    <tr>\n",
       "      <th>4</th>\n",
       "      <td>0.115963</td>\n",
       "      <td>0.967273</td>\n",
       "      <td>0.111992</td>\n",
       "      <td>0.9702</td>\n",
       "    </tr>\n",
       "    <tr>\n",
       "      <th>5</th>\n",
       "      <td>0.098356</td>\n",
       "      <td>0.972218</td>\n",
       "      <td>0.100030</td>\n",
       "      <td>0.9726</td>\n",
       "    </tr>\n",
       "    <tr>\n",
       "      <th>6</th>\n",
       "      <td>0.084822</td>\n",
       "      <td>0.976600</td>\n",
       "      <td>0.090610</td>\n",
       "      <td>0.9740</td>\n",
       "    </tr>\n",
       "    <tr>\n",
       "      <th>7</th>\n",
       "      <td>0.073912</td>\n",
       "      <td>0.979418</td>\n",
       "      <td>0.088474</td>\n",
       "      <td>0.9764</td>\n",
       "    </tr>\n",
       "    <tr>\n",
       "      <th>8</th>\n",
       "      <td>0.065267</td>\n",
       "      <td>0.981673</td>\n",
       "      <td>0.078379</td>\n",
       "      <td>0.9790</td>\n",
       "    </tr>\n",
       "    <tr>\n",
       "      <th>9</th>\n",
       "      <td>0.057991</td>\n",
       "      <td>0.984200</td>\n",
       "      <td>0.078425</td>\n",
       "      <td>0.9780</td>\n",
       "    </tr>\n",
       "  </tbody>\n",
       "</table>\n",
       "</div>"
      ],
      "text/plain": [
       "       loss  accuracy  val_loss  val_accuracy\n",
       "0  0.465939  0.874473  0.249258        0.9308\n",
       "1  0.229686  0.934127  0.182161        0.9520\n",
       "2  0.173858  0.950018  0.154097        0.9568\n",
       "3  0.139954  0.960255  0.125660        0.9662\n",
       "4  0.115963  0.967273  0.111992        0.9702\n",
       "5  0.098356  0.972218  0.100030        0.9726\n",
       "6  0.084822  0.976600  0.090610        0.9740\n",
       "7  0.073912  0.979418  0.088474        0.9764\n",
       "8  0.065267  0.981673  0.078379        0.9790\n",
       "9  0.057991  0.984200  0.078425        0.9780"
      ]
     },
     "execution_count": 3,
     "metadata": {},
     "output_type": "execute_result"
    }
   ],
   "source": [
    "import tensorflow as tf\n",
    "import pandas as pd\n",
    "import numpy as np\n",
    "import matplotlib.pyplot as plt\n",
    "import seaborn as sns\n",
    "import os\n",
    "\n",
    "mnist=tf.keras.datasets.mnist\n",
    "(X_train_full, y_train_full), (X_test, y_test) = mnist.load_data()\n",
    "\n",
    "X_valid,X_train=X_train_full[:5000]/255., X_train_full[5000:]/255.\n",
    "y_valid, y_train = y_train_full[:5000], y_train_full[5000:]\n",
    "\n",
    "# scale the test set as well\n",
    "X_test = X_test / 255.\n",
    "\n",
    "# Creating layers of ANN\n",
    "LAYERS=[tf.keras.layers.Flatten(input_shape=[28, 28], name=\"inputLayer\"),\n",
    "        tf.keras.layers.Dense(300, activation=\"relu\", name=\"hiddenLayer1\"),\n",
    "        tf.keras.layers.Dense(100, activation=\"relu\", name=\"hiddenLayer2\"),\n",
    "        tf.keras.layers.Dense(10, activation=\"softmax\", name=\"outputLayer\")]\n",
    "\n",
    "model_clf=tf.keras.models.Sequential(LAYERS)\n",
    "\n",
    "LOSS_FUNCTION = \"sparse_categorical_crossentropy\" # use => tf.losses.sparse_categorical_crossentropy\n",
    "OPTIMIZER = \"SGD\" # or use with custom learning rate=> tf.keras.optimizers.SGD(0.02)\n",
    "METRICS = [\"accuracy\"]\n",
    "\n",
    "\n",
    "model_clf.compile(loss=LOSS_FUNCTION,\n",
    "              optimizer=OPTIMIZER,\n",
    "              metrics=METRICS)\n",
    "\n",
    "EPOCHS = 10\n",
    "VALIDATION_SET = (X_valid, y_valid)\n",
    "\n",
    "history=model_clf.fit(X_train,y_train,epochs=EPOCHS,validation_data=VALIDATION_SET,batch_size=16)\n",
    "\n",
    "pd.DataFrame(history.history)"
   ]
  },
  {
   "cell_type": "code",
   "execution_count": 4,
   "id": "ec2db489",
   "metadata": {},
   "outputs": [
    {
     "data": {
      "text/plain": [
       "<Axes: >"
      ]
     },
     "execution_count": 4,
     "metadata": {},
     "output_type": "execute_result"
    },
    {
     "data": {
      "image/png": "[encoded data removed]",
      "text/plain": [
       "<Figure size 640x480 with 1 Axes>"
      ]
     },
     "metadata": {},
     "output_type": "display_data"
    }
   ],
   "source": [
    "pd.DataFrame(history.history).plot()"
   ]
  },
  {
   "cell_type": "markdown",
   "id": "960daad7",
   "metadata": {},
   "source": [
    "## Adam Optimizer"
   ]
  },
  {
   "cell_type": "code",
   "execution_count": 5,
   "id": "c297f7b9",
   "metadata": {},
   "outputs": [
    {
     "name": "stdout",
     "output_type": "stream",
     "text": [
      "Epoch 1/10\n",
      "3438/3438 [==============================] - 12s 3ms/step - loss: 0.2012 - accuracy: 0.9392 - val_loss: 0.1177 - val_accuracy: 0.9646\n",
      "Epoch 2/10\n",
      "3438/3438 [==============================] - 9s 3ms/step - loss: 0.0895 - accuracy: 0.9723 - val_loss: 0.0965 - val_accuracy: 0.9724\n",
      "Epoch 3/10\n",
      "3438/3438 [==============================] - 9s 3ms/step - loss: 0.0623 - accuracy: 0.9802 - val_loss: 0.0762 - val_accuracy: 0.9794\n",
      "Epoch 4/10\n",
      "3438/3438 [==============================] - 9s 3ms/step - loss: 0.0494 - accuracy: 0.9840 - val_loss: 0.0816 - val_accuracy: 0.9758\n",
      "Epoch 5/10\n",
      "3438/3438 [==============================] - 9s 3ms/step - loss: 0.0391 - accuracy: 0.9871 - val_loss: 0.0780 - val_accuracy: 0.9798\n",
      "Epoch 6/10\n",
      "3438/3438 [==============================] - 9s 3ms/step - loss: 0.0319 - accuracy: 0.9896 - val_loss: 0.0761 - val_accuracy: 0.9812\n",
      "Epoch 7/10\n",
      "3438/3438 [==============================] - 13s 4ms/step - loss: 0.0260 - accuracy: 0.9921 - val_loss: 0.0902 - val_accuracy: 0.9792\n",
      "Epoch 8/10\n",
      "3438/3438 [==============================] - 10s 3ms/step - loss: 0.0249 - accuracy: 0.9921 - val_loss: 0.1113 - val_accuracy: 0.9774\n",
      "Epoch 9/10\n",
      "3438/3438 [==============================] - 10s 3ms/step - loss: 0.0228 - accuracy: 0.9927 - val_loss: 0.1235 - val_accuracy: 0.9760\n",
      "Epoch 10/10\n",
      "3438/3438 [==============================] - 11s 3ms/step - loss: 0.0192 - accuracy: 0.9937 - val_loss: 0.1158 - val_accuracy: 0.9772\n"
     ]
    },
    {
     "data": {
      "text/html": [
       "<div>\n",
       "<style scoped>\n",
       "    .dataframe tbody tr th:only-of-type {\n",
       "        vertical-align: middle;\n",
       "    }\n",
       "\n",
       "    .dataframe tbody tr th {\n",
       "        vertical-align: top;\n",
       "    }\n",
       "\n",
       "    .dataframe thead th {\n",
       "        text-align: right;\n",
       "    }\n",
       "</style>\n",
       "<table border=\"1\" class=\"dataframe\">\n",
       "  <thead>\n",
       "    <tr style=\"text-align: right;\">\n",
       "      <th></th>\n",
       "      <th>loss</th>\n",
       "      <th>accuracy</th>\n",
       "      <th>val_loss</th>\n",
       "      <th>val_accuracy</th>\n",
       "    </tr>\n",
       "  </thead>\n",
       "  <tbody>\n",
       "    <tr>\n",
       "      <th>0</th>\n",
       "      <td>0.201218</td>\n",
       "      <td>0.939218</td>\n",
       "      <td>0.117696</td>\n",
       "      <td>0.9646</td>\n",
       "    </tr>\n",
       "    <tr>\n",
       "      <th>1</th>\n",
       "      <td>0.089514</td>\n",
       "      <td>0.972345</td>\n",
       "      <td>0.096509</td>\n",
       "      <td>0.9724</td>\n",
       "    </tr>\n",
       "    <tr>\n",
       "      <th>2</th>\n",
       "      <td>0.062283</td>\n",
       "      <td>0.980164</td>\n",
       "      <td>0.076237</td>\n",
       "      <td>0.9794</td>\n",
       "    </tr>\n",
       "    <tr>\n",
       "      <th>3</th>\n",
       "      <td>0.049352</td>\n",
       "      <td>0.984036</td>\n",
       "      <td>0.081555</td>\n",
       "      <td>0.9758</td>\n",
       "    </tr>\n",
       "    <tr>\n",
       "      <th>4</th>\n",
       "      <td>0.039082</td>\n",
       "      <td>0.987127</td>\n",
       "      <td>0.078017</td>\n",
       "      <td>0.9798</td>\n",
       "    </tr>\n",
       "    <tr>\n",
       "      <th>5</th>\n",
       "      <td>0.031946</td>\n",
       "      <td>0.989618</td>\n",
       "      <td>0.076150</td>\n",
       "      <td>0.9812</td>\n",
       "    </tr>\n",
       "    <tr>\n",
       "      <th>6</th>\n",
       "      <td>0.025986</td>\n",
       "      <td>0.992073</td>\n",
       "      <td>0.090158</td>\n",
       "      <td>0.9792</td>\n",
       "    </tr>\n",
       "    <tr>\n",
       "      <th>7</th>\n",
       "      <td>0.024929</td>\n",
       "      <td>0.992127</td>\n",
       "      <td>0.111279</td>\n",
       "      <td>0.9774</td>\n",
       "    </tr>\n",
       "    <tr>\n",
       "      <th>8</th>\n",
       "      <td>0.022823</td>\n",
       "      <td>0.992727</td>\n",
       "      <td>0.123472</td>\n",
       "      <td>0.9760</td>\n",
       "    </tr>\n",
       "    <tr>\n",
       "      <th>9</th>\n",
       "      <td>0.019170</td>\n",
       "      <td>0.993727</td>\n",
       "      <td>0.115832</td>\n",
       "      <td>0.9772</td>\n",
       "    </tr>\n",
       "  </tbody>\n",
       "</table>\n",
       "</div>"
      ],
      "text/plain": [
       "       loss  accuracy  val_loss  val_accuracy\n",
       "0  0.201218  0.939218  0.117696        0.9646\n",
       "1  0.089514  0.972345  0.096509        0.9724\n",
       "2  0.062283  0.980164  0.076237        0.9794\n",
       "3  0.049352  0.984036  0.081555        0.9758\n",
       "4  0.039082  0.987127  0.078017        0.9798\n",
       "5  0.031946  0.989618  0.076150        0.9812\n",
       "6  0.025986  0.992073  0.090158        0.9792\n",
       "7  0.024929  0.992127  0.111279        0.9774\n",
       "8  0.022823  0.992727  0.123472        0.9760\n",
       "9  0.019170  0.993727  0.115832        0.9772"
      ]
     },
     "execution_count": 5,
     "metadata": {},
     "output_type": "execute_result"
    }
   ],
   "source": [
    "import tensorflow as tf\n",
    "import pandas as pd\n",
    "import numpy as np\n",
    "import matplotlib.pyplot as plt\n",
    "import seaborn as sns\n",
    "import os\n",
    "\n",
    "mnist=tf.keras.datasets.mnist\n",
    "(X_train_full, y_train_full), (X_test, y_test) = mnist.load_data()\n",
    "\n",
    "X_valid,X_train=X_train_full[:5000]/255., X_train_full[5000:]/255.\n",
    "y_valid, y_train = y_train_full[:5000], y_train_full[5000:]\n",
    "\n",
    "# scale the test set as well\n",
    "X_test = X_test / 255.\n",
    "\n",
    "# Creating layers of ANN\n",
    "LAYERS=[tf.keras.layers.Flatten(input_shape=[28, 28], name=\"inputLayer\"),\n",
    "        tf.keras.layers.Dense(300, activation=\"relu\", name=\"hiddenLayer1\"),\n",
    "        tf.keras.layers.Dense(100, activation=\"relu\", name=\"hiddenLayer2\"),\n",
    "        tf.keras.layers.Dense(10, activation=\"softmax\", name=\"outputLayer\")]\n",
    "\n",
    "model_clf=tf.keras.models.Sequential(LAYERS)\n",
    "\n",
    "LOSS_FUNCTION = \"sparse_categorical_crossentropy\" # use => tf.losses.sparse_categorical_crossentropy\n",
    "OPTIMIZER = \"Adam\" # or use with custom learning rate=> tf.keras.optimizers.SGD(0.02)\n",
    "METRICS = [\"accuracy\"]\n",
    "\n",
    "\n",
    "model_clf.compile(loss=LOSS_FUNCTION,\n",
    "              optimizer=OPTIMIZER,\n",
    "              metrics=METRICS)\n",
    "\n",
    "EPOCHS = 10\n",
    "VALIDATION_SET = (X_valid, y_valid)\n",
    "\n",
    "history=model_clf.fit(X_train,y_train,epochs=EPOCHS,validation_data=VALIDATION_SET,batch_size=16)\n",
    "\n",
    "pd.DataFrame(history.history)"
   ]
  },
  {
   "cell_type": "code",
   "execution_count": 6,
   "id": "c3e295a1",
   "metadata": {},
   "outputs": [
    {
     "data": {
      "text/plain": [
       "<Axes: >"
      ]
     },
     "execution_count": 6,
     "metadata": {},
     "output_type": "execute_result"
    },
    {
     "data": {
      "image/png": "[encoded data removed]",
      "text/plain": [
       "<Figure size 640x480 with 1 Axes>"
      ]
     },
     "metadata": {},
     "output_type": "display_data"
    }
   ],
   "source": [
    "pd.DataFrame(history.history).plot()"
   ]
  },
  {
   "cell_type": "code",
   "execution_count": null,
   "id": "3f08c1e5",
   "metadata": {},
   "outputs": [],
   "source": [
    "## RMSP Optimizer"
   ]
  },
  {
   "cell_type": "code",
   "execution_count": 8,
   "id": "f9e05dd7",
   "metadata": {},
   "outputs": [
    {
     "name": "stdout",
     "output_type": "stream",
     "text": [
      "Epoch 1/10\n",
      "3438/3438 [==============================] - 16s 4ms/step - loss: 0.2089 - accuracy: 0.9383 - val_loss: 0.1200 - val_accuracy: 0.9698\n",
      "Epoch 2/10\n",
      "3438/3438 [==============================] - 12s 4ms/step - loss: 0.1115 - accuracy: 0.9709 - val_loss: 0.1472 - val_accuracy: 0.9678\n",
      "Epoch 3/10\n",
      "3438/3438 [==============================] - 11s 3ms/step - loss: 0.0962 - accuracy: 0.9775 - val_loss: 0.1205 - val_accuracy: 0.9764\n",
      "Epoch 4/10\n",
      "3438/3438 [==============================] - 11s 3ms/step - loss: 0.0808 - accuracy: 0.9813 - val_loss: 0.1281 - val_accuracy: 0.9740\n",
      "Epoch 5/10\n",
      "3438/3438 [==============================] - 11s 3ms/step - loss: 0.0789 - accuracy: 0.9842 - val_loss: 0.1494 - val_accuracy: 0.9784\n",
      "Epoch 6/10\n",
      "3438/3438 [==============================] - 11s 3ms/step - loss: 0.0727 - accuracy: 0.9853 - val_loss: 0.1333 - val_accuracy: 0.9802\n",
      "Epoch 7/10\n",
      "3438/3438 [==============================] - 11s 3ms/step - loss: 0.0648 - accuracy: 0.9879 - val_loss: 0.2056 - val_accuracy: 0.9754\n",
      "Epoch 8/10\n",
      "3438/3438 [==============================] - 11s 3ms/step - loss: 0.0603 - accuracy: 0.9883 - val_loss: 0.1675 - val_accuracy: 0.9770\n",
      "Epoch 9/10\n",
      "3438/3438 [==============================] - 11s 3ms/step - loss: 0.0536 - accuracy: 0.9899 - val_loss: 0.2117 - val_accuracy: 0.9742\n",
      "Epoch 10/10\n",
      "3438/3438 [==============================] - 11s 3ms/step - loss: 0.0510 - accuracy: 0.9906 - val_loss: 0.1855 - val_accuracy: 0.9778\n"
     ]
    },
    {
     "data": {
      "text/html": [
       "<div>\n",
       "<style scoped>\n",
       "    .dataframe tbody tr th:only-of-type {\n",
       "        vertical-align: middle;\n",
       "    }\n",
       "\n",
       "    .dataframe tbody tr th {\n",
       "        vertical-align: top;\n",
       "    }\n",
       "\n",
       "    .dataframe thead th {\n",
       "        text-align: right;\n",
       "    }\n",
       "</style>\n",
       "<table border=\"1\" class=\"dataframe\">\n",
       "  <thead>\n",
       "    <tr style=\"text-align: right;\">\n",
       "      <th></th>\n",
       "      <th>loss</th>\n",
       "      <th>accuracy</th>\n",
       "      <th>val_loss</th>\n",
       "      <th>val_accuracy</th>\n",
       "    </tr>\n",
       "  </thead>\n",
       "  <tbody>\n",
       "    <tr>\n",
       "      <th>0</th>\n",
       "      <td>0.208942</td>\n",
       "      <td>0.938309</td>\n",
       "      <td>0.120033</td>\n",
       "      <td>0.9698</td>\n",
       "    </tr>\n",
       "    <tr>\n",
       "      <th>1</th>\n",
       "      <td>0.111486</td>\n",
       "      <td>0.970945</td>\n",
       "      <td>0.147187</td>\n",
       "      <td>0.9678</td>\n",
       "    </tr>\n",
       "    <tr>\n",
       "      <th>2</th>\n",
       "      <td>0.096204</td>\n",
       "      <td>0.977455</td>\n",
       "      <td>0.120468</td>\n",
       "      <td>0.9764</td>\n",
       "    </tr>\n",
       "    <tr>\n",
       "      <th>3</th>\n",
       "      <td>0.080794</td>\n",
       "      <td>0.981255</td>\n",
       "      <td>0.128114</td>\n",
       "      <td>0.9740</td>\n",
       "    </tr>\n",
       "    <tr>\n",
       "      <th>4</th>\n",
       "      <td>0.078903</td>\n",
       "      <td>0.984182</td>\n",
       "      <td>0.149368</td>\n",
       "      <td>0.9784</td>\n",
       "    </tr>\n",
       "    <tr>\n",
       "      <th>5</th>\n",
       "      <td>0.072695</td>\n",
       "      <td>0.985345</td>\n",
       "      <td>0.133293</td>\n",
       "      <td>0.9802</td>\n",
       "    </tr>\n",
       "    <tr>\n",
       "      <th>6</th>\n",
       "      <td>0.064837</td>\n",
       "      <td>0.987855</td>\n",
       "      <td>0.205642</td>\n",
       "      <td>0.9754</td>\n",
       "    </tr>\n",
       "    <tr>\n",
       "      <th>7</th>\n",
       "      <td>0.060335</td>\n",
       "      <td>0.988309</td>\n",
       "      <td>0.167485</td>\n",
       "      <td>0.9770</td>\n",
       "    </tr>\n",
       "    <tr>\n",
       "      <th>8</th>\n",
       "      <td>0.053557</td>\n",
       "      <td>0.989927</td>\n",
       "      <td>0.211679</td>\n",
       "      <td>0.9742</td>\n",
       "    </tr>\n",
       "    <tr>\n",
       "      <th>9</th>\n",
       "      <td>0.051048</td>\n",
       "      <td>0.990636</td>\n",
       "      <td>0.185492</td>\n",
       "      <td>0.9778</td>\n",
       "    </tr>\n",
       "  </tbody>\n",
       "</table>\n",
       "</div>"
      ],
      "text/plain": [
       "       loss  accuracy  val_loss  val_accuracy\n",
       "0  0.208942  0.938309  0.120033        0.9698\n",
       "1  0.111486  0.970945  0.147187        0.9678\n",
       "2  0.096204  0.977455  0.120468        0.9764\n",
       "3  0.080794  0.981255  0.128114        0.9740\n",
       "4  0.078903  0.984182  0.149368        0.9784\n",
       "5  0.072695  0.985345  0.133293        0.9802\n",
       "6  0.064837  0.987855  0.205642        0.9754\n",
       "7  0.060335  0.988309  0.167485        0.9770\n",
       "8  0.053557  0.989927  0.211679        0.9742\n",
       "9  0.051048  0.990636  0.185492        0.9778"
      ]
     },
     "execution_count": 8,
     "metadata": {},
     "output_type": "execute_result"
    }
   ],
   "source": [
    "import tensorflow as tf\n",
    "import pandas as pd\n",
    "import numpy as np\n",
    "import matplotlib.pyplot as plt\n",
    "import seaborn as sns\n",
    "import os\n",
    "\n",
    "mnist=tf.keras.datasets.mnist\n",
    "(X_train_full, y_train_full), (X_test, y_test) = mnist.load_data()\n",
    "\n",
    "X_valid,X_train=X_train_full[:5000]/255., X_train_full[5000:]/255.\n",
    "y_valid, y_train = y_train_full[:5000], y_train_full[5000:]\n",
    "\n",
    "# scale the test set as well\n",
    "X_test = X_test / 255.\n",
    "\n",
    "# Creating layers of ANN\n",
    "LAYERS=[tf.keras.layers.Flatten(input_shape=[28, 28], name=\"inputLayer\"),\n",
    "        tf.keras.layers.Dense(300, activation=\"relu\", name=\"hiddenLayer1\"),\n",
    "        tf.keras.layers.Dense(100, activation=\"relu\", name=\"hiddenLayer2\"),\n",
    "        tf.keras.layers.Dense(10, activation=\"softmax\", name=\"outputLayer\")]\n",
    "\n",
    "model_clf=tf.keras.models.Sequential(LAYERS)\n",
    "\n",
    "LOSS_FUNCTION = \"sparse_categorical_crossentropy\" # use => tf.losses.sparse_categorical_crossentropy\n",
    "OPTIMIZER = \"rmsprop\" # or use with custom learning rate=> tf.keras.optimizers.SGD(0.02)\n",
    "METRICS = [\"accuracy\"]\n",
    "\n",
    "\n",
    "model_clf.compile(loss=LOSS_FUNCTION,\n",
    "              optimizer=OPTIMIZER,\n",
    "              metrics=METRICS)\n",
    "\n",
    "EPOCHS = 10\n",
    "VALIDATION_SET = (X_valid, y_valid)\n",
    "\n",
    "history=model_clf.fit(X_train,y_train,epochs=EPOCHS,validation_data=VALIDATION_SET,batch_size=16)\n",
    "\n",
    "pd.DataFrame(history.history)"
   ]
  },
  {
   "cell_type": "code",
   "execution_count": 9,
   "id": "81039916",
   "metadata": {},
   "outputs": [
    {
     "data": {
      "text/plain": [
       "<Axes: >"
      ]
     },
     "execution_count": 9,
     "metadata": {},
     "output_type": "execute_result"
    },
    {
     "data": {
      "image/png": "[encoded data removed]",
      "text/plain": [
       "<Figure size 640x480 with 1 Axes>"
      ]
     },
     "metadata": {},
     "output_type": "display_data"
    }
   ],
   "source": [
    "pd.DataFrame(history.history).plot()"
   ]
  },
  {
   "cell_type": "markdown",
   "id": "242dd8d1",
   "metadata": {},
   "source": [
    "## SGD optimizer showing better resukts ciompared to Adama and rmsp"
   ]
  }
 ],
 "metadata": {
  "kernelspec": {
   "display_name": "Python 3 (ipykernel)",
   "language": "python",
   "name": "python3"
  },
  "language_info": {
   "codemirror_mode": {
    "name": "ipython",
    "version": 3
   },
   "file_extension": ".py",
   "mimetype": "text/x-python",
   "name": "python",
   "nbconvert_exporter": "python",
   "pygments_lexer": "ipython3",
   "version": "3.10.9"
  }
 },
 "nbformat": 4,
 "nbformat_minor": 5
}
