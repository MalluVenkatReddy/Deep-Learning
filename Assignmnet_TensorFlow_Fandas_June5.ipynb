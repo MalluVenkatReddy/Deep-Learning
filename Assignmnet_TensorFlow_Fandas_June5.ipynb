{
 "cells": [
  {
   "cell_type": "code",
   "execution_count": null,
   "id": "4e04d3d6",
   "metadata": {},
   "outputs": [],
   "source": [
    "Part 1: Theoretical Questionk\n",
    "1. What are the different data structures used in Tensorflow?. Give some examplesc\n",
    "2. How does the TensorFlow constant differ from a TensorFlow variable? Explain with an examplec\n",
    "3. Describe the process of matrix addition, multiplication, and element-wise operations in TensorFlow."
   ]
  },
  {
   "cell_type": "markdown",
   "id": "e3e1821a",
   "metadata": {},
   "source": [
    "## Part 1"
   ]
  },
  {
   "cell_type": "code",
   "execution_count": null,
   "id": "59861c19",
   "metadata": {},
   "outputs": [],
   "source": [
    "1. Tensors are the basic data structures in TensorFlow, and they represent the connecting edges in a dataflow graph.\n",
    "\n",
    "A tensor simply identifies a multidimensional array or list. The tensor structure can be identified with three parameters: rank, shape, and type.\n",
    "\n",
    "a. Rank: Identifies the number of dimensions of the tensor. A rank is known as the order or n-dimensions of a tensor, where for example rank 1 tensor is a vector or rank 2 tensor is matrix.\n",
    "\n",
    "b. Shape: The shape of a tensor is the number of rows and columns it has.\n",
    "    \n",
    "c. Type: The data type assigned to tensor elements"
   ]
  },
  {
   "cell_type": "markdown",
   "id": "457fb40e",
   "metadata": {},
   "source": [
    "2. constant vs variable"
   ]
  },
  {
   "cell_type": "code",
   "execution_count": 1,
   "id": "d88f5ec0",
   "metadata": {},
   "outputs": [],
   "source": [
    "import tensorflow as tf"
   ]
  },
  {
   "cell_type": "code",
   "execution_count": 4,
   "id": "26bcc9dd",
   "metadata": {},
   "outputs": [
    {
     "data": {
      "text/plain": [
       "<tf.Tensor: shape=(), dtype=int32, numpy=42>"
      ]
     },
     "execution_count": 4,
     "metadata": {},
     "output_type": "execute_result"
    }
   ],
   "source": [
    "a=tf.constant(42)\n",
    "a"
   ]
  },
  {
   "cell_type": "code",
   "execution_count": 13,
   "id": "ed4c2bd0",
   "metadata": {},
   "outputs": [
    {
     "ename": "AttributeError",
     "evalue": "'tensorflow.python.framework.ops.EagerTensor' object has no attribute 'assign'",
     "output_type": "error",
     "traceback": [
      "\u001b[1;31m---------------------------------------------------------------------------\u001b[0m",
      "\u001b[1;31mAttributeError\u001b[0m                            Traceback (most recent call last)",
      "Cell \u001b[1;32mIn[13], line 1\u001b[0m\n\u001b[1;32m----> 1\u001b[0m \u001b[43ma\u001b[49m\u001b[38;5;241;43m.\u001b[39;49m\u001b[43massign\u001b[49m(\u001b[38;5;241m98\u001b[39m)\n",
      "File \u001b[1;32m~\\anaconda3\\lib\\site-packages\\tensorflow\\python\\framework\\ops.py:446\u001b[0m, in \u001b[0;36mTensor.__getattr__\u001b[1;34m(self, name)\u001b[0m\n\u001b[0;32m    437\u001b[0m \u001b[38;5;28;01mif\u001b[39;00m name \u001b[38;5;129;01min\u001b[39;00m {\u001b[38;5;124m\"\u001b[39m\u001b[38;5;124mT\u001b[39m\u001b[38;5;124m\"\u001b[39m, \u001b[38;5;124m\"\u001b[39m\u001b[38;5;124mastype\u001b[39m\u001b[38;5;124m\"\u001b[39m, \u001b[38;5;124m\"\u001b[39m\u001b[38;5;124mravel\u001b[39m\u001b[38;5;124m\"\u001b[39m, \u001b[38;5;124m\"\u001b[39m\u001b[38;5;124mtranspose\u001b[39m\u001b[38;5;124m\"\u001b[39m, \u001b[38;5;124m\"\u001b[39m\u001b[38;5;124mreshape\u001b[39m\u001b[38;5;124m\"\u001b[39m, \u001b[38;5;124m\"\u001b[39m\u001b[38;5;124mclip\u001b[39m\u001b[38;5;124m\"\u001b[39m, \u001b[38;5;124m\"\u001b[39m\u001b[38;5;124msize\u001b[39m\u001b[38;5;124m\"\u001b[39m,\n\u001b[0;32m    438\u001b[0m             \u001b[38;5;124m\"\u001b[39m\u001b[38;5;124mtolist\u001b[39m\u001b[38;5;124m\"\u001b[39m, \u001b[38;5;124m\"\u001b[39m\u001b[38;5;124mdata\u001b[39m\u001b[38;5;124m\"\u001b[39m}:\n\u001b[0;32m    439\u001b[0m   \u001b[38;5;66;03m# TODO(wangpeng): Export the enable_numpy_behavior knob\u001b[39;00m\n\u001b[0;32m    440\u001b[0m   \u001b[38;5;28;01mraise\u001b[39;00m \u001b[38;5;167;01mAttributeError\u001b[39;00m(\n\u001b[0;32m    441\u001b[0m       \u001b[38;5;124mf\u001b[39m\u001b[38;5;124m\"\u001b[39m\u001b[38;5;132;01m{\u001b[39;00m\u001b[38;5;28mtype\u001b[39m(\u001b[38;5;28mself\u001b[39m)\u001b[38;5;241m.\u001b[39m\u001b[38;5;18m__name__\u001b[39m\u001b[38;5;132;01m}\u001b[39;00m\u001b[38;5;124m object has no attribute \u001b[39m\u001b[38;5;124m'\u001b[39m\u001b[38;5;132;01m{\u001b[39;00mname\u001b[38;5;132;01m}\u001b[39;00m\u001b[38;5;124m'\u001b[39m\u001b[38;5;124m. \u001b[39m\u001b[38;5;124m\"\u001b[39m \u001b[38;5;241m+\u001b[39m \u001b[38;5;124m\"\"\"\u001b[39m\n\u001b[0;32m    442\u001b[0m \u001b[38;5;124m    If you are looking for numpy-related methods, please run the following:\u001b[39m\n\u001b[0;32m    443\u001b[0m \u001b[38;5;124m    from tensorflow.python.ops.numpy_ops import np_config\u001b[39m\n\u001b[0;32m    444\u001b[0m \u001b[38;5;124m    np_config.enable_numpy_behavior()\u001b[39m\n\u001b[0;32m    445\u001b[0m \u001b[38;5;124m  \u001b[39m\u001b[38;5;124m\"\"\"\u001b[39m)\n\u001b[1;32m--> 446\u001b[0m \u001b[38;5;28;43mself\u001b[39;49m\u001b[38;5;241;43m.\u001b[39;49m\u001b[38;5;21;43m__getattribute__\u001b[39;49m\u001b[43m(\u001b[49m\u001b[43mname\u001b[49m\u001b[43m)\u001b[49m\n",
      "\u001b[1;31mAttributeError\u001b[0m: 'tensorflow.python.framework.ops.EagerTensor' object has no attribute 'assign'"
     ]
    }
   ],
   "source": [
    "a.assign(98)"
   ]
  },
  {
   "cell_type": "code",
   "execution_count": 6,
   "id": "7c9eb83a",
   "metadata": {
    "scrolled": true
   },
   "outputs": [
    {
     "data": {
      "text/plain": [
       "<tf.Variable 'Variable:0' shape=() dtype=int32, numpy=42>"
      ]
     },
     "execution_count": 6,
     "metadata": {},
     "output_type": "execute_result"
    }
   ],
   "source": [
    "b=tf.Variable(42)\n",
    "b"
   ]
  },
  {
   "cell_type": "code",
   "execution_count": 12,
   "id": "bbd95c03",
   "metadata": {},
   "outputs": [
    {
     "data": {
      "text/plain": [
       "<tf.Variable 'UnreadVariable' shape=() dtype=int32, numpy=98>"
      ]
     },
     "execution_count": 12,
     "metadata": {},
     "output_type": "execute_result"
    }
   ],
   "source": [
    "b.assign(98)"
   ]
  },
  {
   "cell_type": "markdown",
   "id": "18b6c1da",
   "metadata": {},
   "source": [
    "## In TensorFlow the differences between constants and variables are that when you declare some constant, its value can't be changed in the future (also the initialization should be with a value, not with operation).\n",
    "\n",
    "## Nevertheless, when you declare a Variable, you can change its value in the future with tf.assign() method (and the initialization can be achieved with a value or operation)."
   ]
  },
  {
   "cell_type": "markdown",
   "id": "3930fcab",
   "metadata": {},
   "source": [
    "3.matrix addition, multiplication, and element-wise operations in TensorFlow"
   ]
  },
  {
   "cell_type": "code",
   "execution_count": 14,
   "id": "7023b36e",
   "metadata": {},
   "outputs": [
    {
     "data": {
      "text/plain": [
       "<tf.Tensor: shape=(1, 3), dtype=int32, numpy=array([[1, 2, 3]])>"
      ]
     },
     "execution_count": 14,
     "metadata": {},
     "output_type": "execute_result"
    }
   ],
   "source": [
    "mat_u=tf.constant([[1,2,3]])\n",
    "mat_v=tf.constant([[1,2,3]])\n",
    "mat_u"
   ]
  },
  {
   "cell_type": "code",
   "execution_count": 15,
   "id": "0f1c40eb",
   "metadata": {},
   "outputs": [
    {
     "data": {
      "text/plain": [
       "<tf.Tensor: shape=(1, 3), dtype=int32, numpy=array([[1, 2, 3]])>"
      ]
     },
     "execution_count": 15,
     "metadata": {},
     "output_type": "execute_result"
    }
   ],
   "source": [
    "mat_v"
   ]
  },
  {
   "cell_type": "code",
   "execution_count": 17,
   "id": "8aa58390",
   "metadata": {},
   "outputs": [
    {
     "data": {
      "text/plain": [
       "<tf.Tensor: shape=(3, 1), dtype=int32, numpy=\n",
       "array([[1],\n",
       "       [2],\n",
       "       [3]])>"
      ]
     },
     "execution_count": 17,
     "metadata": {},
     "output_type": "execute_result"
    }
   ],
   "source": [
    "mat_v_t=tf.transpose(mat_v)\n",
    "mat_v_t"
   ]
  },
  {
   "cell_type": "code",
   "execution_count": 18,
   "id": "50ebb4fc",
   "metadata": {},
   "outputs": [
    {
     "data": {
      "text/plain": [
       "<tf.Tensor: shape=(1, 1), dtype=int32, numpy=array([[14]])>"
      ]
     },
     "execution_count": 18,
     "metadata": {},
     "output_type": "execute_result"
    }
   ],
   "source": [
    "tf.matmul(mat_u,mat_v_t)"
   ]
  },
  {
   "cell_type": "code",
   "execution_count": 19,
   "id": "18039343",
   "metadata": {},
   "outputs": [
    {
     "data": {
      "text/plain": [
       "<tf.Tensor: shape=(1, 3), dtype=int32, numpy=array([[2, 4, 6]])>"
      ]
     },
     "execution_count": 19,
     "metadata": {},
     "output_type": "execute_result"
    }
   ],
   "source": [
    "mta=tf.add(mat_u,mat_v)\n",
    "mta"
   ]
  },
  {
   "cell_type": "code",
   "execution_count": 20,
   "id": "639083bb",
   "metadata": {},
   "outputs": [
    {
     "data": {
      "text/plain": [
       "<tf.Tensor: shape=(1, 3), dtype=int32, numpy=array([[ 9, 18, 27]])>"
      ]
     },
     "execution_count": 20,
     "metadata": {},
     "output_type": "execute_result"
    }
   ],
   "source": [
    "tf.multiply(mat_u,9)"
   ]
  },
  {
   "cell_type": "code",
   "execution_count": null,
   "id": "4b5ff7ec",
   "metadata": {},
   "outputs": [],
   "source": [
    "Part 2: Practical Implementation\n",
    "\n",
    "Task 1: Creating and Manipulating Matricek\n",
    "1. Create a normal matrix A with dimensions 3x3, using TensorFlow's random_normal function. Display the \n",
    "values of matrix A\n",
    "2. Create a Gaussian matrix B with dimensions 4x4, using TensorFlow's truncated_normal function. Display \n",
    "the values of matrix Bc\n",
    "3. Create a matrix C with dimensions 2x2, where the values are drawn from a normal distribution with a \n",
    "mean of 3 and a standard deviation of 0.5, using TensorFlow's random.normal function. Display the values \n",
    "of matrix C\n",
    "4. Perform matrix addition between matrix A and matrix B, and store the result in matrix D\n",
    "5. Perform matrix multiplication between matrix C and matrix D, and store the result in matrix E.\n",
    "Task 2: Performing Additional Matrix Operationk\n",
    "1. Create a matrix F with dimensions 3x3, initialized with random values using TensorFlow's random_uniform \n",
    "functionc\n",
    "2. Calculate the transpose of matrix F and store the result in matrix Gc\n",
    "3. Calculate the element-wise exponential of matrix F and store the result in matrix Hc\n",
    "4. Create a matrix I by concatenating matrix F and matrix G horizontallyc\n",
    "5. Create a matrix J by concatenating matrix F and matrix H vertically."
   ]
  },
  {
   "cell_type": "markdown",
   "id": "8d272005",
   "metadata": {},
   "source": [
    "## Part 2"
   ]
  },
  {
   "cell_type": "markdown",
   "id": "53725afa",
   "metadata": {},
   "source": [
    "### Task 1"
   ]
  },
  {
   "cell_type": "code",
   "execution_count": 27,
   "id": "33bef1e3",
   "metadata": {},
   "outputs": [
    {
     "data": {
      "text/plain": [
       "<tf.Tensor: shape=(3, 3), dtype=float32, numpy=\n",
       "array([[ 0.849604  ,  0.63646567,  0.60850096],\n",
       "       [ 1.594156  ,  0.23293778, -1.3201696 ],\n",
       "       [ 0.38186222, -1.0438532 ,  0.13532962]], dtype=float32)>"
      ]
     },
     "execution_count": 27,
     "metadata": {},
     "output_type": "execute_result"
    }
   ],
   "source": [
    "Matrix_A=tf.random.normal(shape=(3,3),mean=0,stddev=1)\n",
    "Matrix_A"
   ]
  },
  {
   "cell_type": "code",
   "execution_count": 28,
   "id": "75108a0e",
   "metadata": {},
   "outputs": [
    {
     "data": {
      "text/plain": [
       "<tf.Tensor: shape=(4, 4), dtype=float32, numpy=\n",
       "array([[-0.40800196,  1.1491874 , -1.0792257 , -0.29867393],\n",
       "       [ 0.99870497, -0.30080998,  1.0827218 , -0.9864211 ],\n",
       "       [-0.7078753 ,  0.43343493, -0.01092538, -1.2660323 ],\n",
       "       [-0.49040642, -0.1846441 , -0.3082931 , -0.70754355]],\n",
       "      dtype=float32)>"
      ]
     },
     "execution_count": 28,
     "metadata": {},
     "output_type": "execute_result"
    }
   ],
   "source": [
    "Matrix_B=tf.random.truncated_normal(shape=(4,4),mean=0,stddev=1)\n",
    "Matrix_B"
   ]
  },
  {
   "cell_type": "code",
   "execution_count": 29,
   "id": "9f9f333c",
   "metadata": {},
   "outputs": [
    {
     "data": {
      "text/plain": [
       "<tf.Tensor: shape=(2, 2), dtype=float32, numpy=\n",
       "array([[2.7403977, 3.4328141],\n",
       "       [3.1489785, 2.4894168]], dtype=float32)>"
      ]
     },
     "execution_count": 29,
     "metadata": {},
     "output_type": "execute_result"
    }
   ],
   "source": [
    "Matrix_C=tf.random.normal(shape=(2,2),mean=3,stddev=0.5)\n",
    "Matrix_C"
   ]
  },
  {
   "cell_type": "code",
   "execution_count": 31,
   "id": "a4a4de68",
   "metadata": {},
   "outputs": [
    {
     "data": {
      "text/plain": [
       "<tf.Tensor: shape=(4, 4), dtype=float32, numpy=\n",
       "array([[-1.2771266 ,  1.8682204 , -1.0040886 , -0.03049994],\n",
       "       [-0.24057871,  0.49932864, -0.9828422 ,  0.01500144],\n",
       "       [ 0.5261143 , -0.4710401 , -0.4487373 , -0.08141351],\n",
       "       [-0.0958588 , -0.0544923 ,  0.34899315,  0.3023947 ]],\n",
       "      dtype=float32)>"
      ]
     },
     "execution_count": 31,
     "metadata": {},
     "output_type": "execute_result"
    }
   ],
   "source": [
    "Matrix_A=tf.random.normal(shape=(4,4),mean=0,stddev=1)\n",
    "Matrix_A"
   ]
  },
  {
   "cell_type": "code",
   "execution_count": 32,
   "id": "cd04c637",
   "metadata": {},
   "outputs": [],
   "source": [
    "Matrix_D=tf.add(Matrix_A,Matrix_B)"
   ]
  },
  {
   "cell_type": "code",
   "execution_count": 26,
   "id": "d67eb4a9",
   "metadata": {},
   "outputs": [
    {
     "data": {
      "text/plain": [
       "<tf.Tensor: shape=(4, 4), dtype=float32, numpy=\n",
       "array([[ 0.78071547,  1.5762992 ,  1.4596301 ,  1.1229947 ],\n",
       "       [ 2.5954452 , -1.2489655 , -0.68366015,  0.37744308],\n",
       "       [-0.1847879 ,  1.1729108 , -0.5820359 ,  1.9351172 ],\n",
       "       [ 0.22298789, -0.7818427 ,  1.4367635 , -0.3525564 ]],\n",
       "      dtype=float32)>"
      ]
     },
     "execution_count": 26,
     "metadata": {},
     "output_type": "execute_result"
    }
   ],
   "source": [
    "Matrix_D"
   ]
  },
  {
   "cell_type": "code",
   "execution_count": 33,
   "id": "d55ca6fa",
   "metadata": {},
   "outputs": [
    {
     "data": {
      "text/plain": [
       "<tf.Tensor: shape=(4, 4), dtype=float32, numpy=\n",
       "array([[ 3.7688546 , -3.4376826 ,  3.3075542 , -0.02911735],\n",
       "       [ 0.95380783, -0.59342545,  1.0034603 ,  0.91238344],\n",
       "       [-1.1143851 ,  1.5303348 , -0.94015455,  0.9220283 ],\n",
       "       [-0.12049449, -0.38550037,  0.0461497 , -0.50827515]],\n",
       "      dtype=float32)>"
      ]
     },
     "execution_count": 33,
     "metadata": {},
     "output_type": "execute_result"
    }
   ],
   "source": [
    "Matrix_E=tf.matmul(Matrix_A,Matrix_D)\n",
    "Matrix_E"
   ]
  },
  {
   "cell_type": "markdown",
   "id": "767f70eb",
   "metadata": {},
   "source": [
    "### Task 2"
   ]
  },
  {
   "cell_type": "code",
   "execution_count": 66,
   "id": "f960e6ab",
   "metadata": {},
   "outputs": [
    {
     "data": {
      "text/plain": [
       "<tf.Tensor: shape=(3, 3), dtype=float32, numpy=\n",
       "array([[8.970984 , 5.357276 , 3.057872 ],\n",
       "       [1.7223895, 2.4699855, 4.9468684],\n",
       "       [2.798183 , 2.134211 , 5.053072 ]], dtype=float32)>"
      ]
     },
     "execution_count": 66,
     "metadata": {},
     "output_type": "execute_result"
    }
   ],
   "source": [
    "Matrix_F=tf.random.uniform(shape=(3,3),minval=0,maxval=10,dtype=tf.float32)\n",
    "Matrix_F"
   ]
  },
  {
   "cell_type": "code",
   "execution_count": 67,
   "id": "cd7c6cdb",
   "metadata": {},
   "outputs": [
    {
     "data": {
      "text/plain": [
       "<tf.Tensor: shape=(3, 3), dtype=float32, numpy=\n",
       "array([[8.970984 , 1.7223895, 2.798183 ],\n",
       "       [5.357276 , 2.4699855, 2.134211 ],\n",
       "       [3.057872 , 4.9468684, 5.053072 ]], dtype=float32)>"
      ]
     },
     "execution_count": 67,
     "metadata": {},
     "output_type": "execute_result"
    }
   ],
   "source": [
    "Matrix_G=tf.transpose(Matrix_F)\n",
    "Matrix_G"
   ]
  },
  {
   "cell_type": "code",
   "execution_count": 68,
   "id": "165fb84d",
   "metadata": {},
   "outputs": [
    {
     "data": {
      "text/plain": [
       "<tf.Tensor: shape=(3,), dtype=float32, numpy=array([1., 2., 3.], dtype=float32)>"
      ]
     },
     "execution_count": 68,
     "metadata": {},
     "output_type": "execute_result"
    }
   ],
   "source": [
    "a=tf.constant([1.,2.,3.])\n",
    "a"
   ]
  },
  {
   "cell_type": "code",
   "execution_count": 69,
   "id": "3a86d191",
   "metadata": {},
   "outputs": [
    {
     "data": {
      "text/plain": [
       "<tf.Tensor: shape=(3, 3), dtype=float32, numpy=\n",
       "array([[7.8713467e+03, 5.5978885e+00, 1.6414793e+01],\n",
       "       [2.1214626e+02, 1.1822275e+01, 8.4503775e+00],\n",
       "       [2.1282221e+01, 1.4073355e+02, 1.5650250e+02]], dtype=float32)>"
      ]
     },
     "execution_count": 69,
     "metadata": {},
     "output_type": "execute_result"
    }
   ],
   "source": [
    "Matrix_H=tf.math.exp(Matrix_G)\n",
    "Matrix_H"
   ]
  },
  {
   "cell_type": "code",
   "execution_count": 70,
   "id": "ad79ca61",
   "metadata": {},
   "outputs": [
    {
     "data": {
      "text/plain": [
       "<tf.Tensor: shape=(3, 6), dtype=float32, numpy=\n",
       "array([[8.970984 , 5.357276 , 3.057872 , 8.970984 , 1.7223895, 2.798183 ],\n",
       "       [1.7223895, 2.4699855, 4.9468684, 5.357276 , 2.4699855, 2.134211 ],\n",
       "       [2.798183 , 2.134211 , 5.053072 , 3.057872 , 4.9468684, 5.053072 ]],\n",
       "      dtype=float32)>"
      ]
     },
     "execution_count": 70,
     "metadata": {},
     "output_type": "execute_result"
    }
   ],
   "source": [
    "Matrix_I=tf.concat(values=[Matrix_F,Matrix_G],axis=1)\n",
    "Matrix_I"
   ]
  },
  {
   "cell_type": "code",
   "execution_count": 71,
   "id": "c98c919a",
   "metadata": {},
   "outputs": [
    {
     "data": {
      "text/plain": [
       "<tf.Tensor: shape=(6, 3), dtype=float32, numpy=\n",
       "array([[8.970984 , 5.357276 , 3.057872 ],\n",
       "       [1.7223895, 2.4699855, 4.9468684],\n",
       "       [2.798183 , 2.134211 , 5.053072 ],\n",
       "       [8.970984 , 1.7223895, 2.798183 ],\n",
       "       [5.357276 , 2.4699855, 2.134211 ],\n",
       "       [3.057872 , 4.9468684, 5.053072 ]], dtype=float32)>"
      ]
     },
     "execution_count": 71,
     "metadata": {},
     "output_type": "execute_result"
    }
   ],
   "source": [
    "Matrix_J=tf.concat(values=[Matrix_F,Matrix_G],axis=0)\n",
    "Matrix_J"
   ]
  }
 ],
 "metadata": {
  "kernelspec": {
   "display_name": "Python 3 (ipykernel)",
   "language": "python",
   "name": "python3"
  },
  "language_info": {
   "codemirror_mode": {
    "name": "ipython",
    "version": 3
   },
   "file_extension": ".py",
   "mimetype": "text/x-python",
   "name": "python",
   "nbconvert_exporter": "python",
   "pygments_lexer": "ipython3",
   "version": "3.10.9"
  }
 },
 "nbformat": 4,
 "nbformat_minor": 5
}
